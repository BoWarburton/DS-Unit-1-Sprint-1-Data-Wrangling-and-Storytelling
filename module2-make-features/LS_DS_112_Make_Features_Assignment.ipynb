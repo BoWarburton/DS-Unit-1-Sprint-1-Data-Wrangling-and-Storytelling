{
  "nbformat": 4,
  "nbformat_minor": 0,
  "metadata": {
    "colab": {
      "name": "LS_DS_112_Make_Features_Assignment.ipynb",
      "provenance": [],
      "collapsed_sections": [],
      "toc_visible": true
    },
    "kernelspec": {
      "display_name": "Python 3",
      "language": "python",
      "name": "python3"
    },
    "language_info": {
      "codemirror_mode": {
        "name": "ipython",
        "version": 3
      },
      "file_extension": ".py",
      "mimetype": "text/x-python",
      "name": "python",
      "nbconvert_exporter": "python",
      "pygments_lexer": "ipython3",
      "version": "3.7.1"
    }
  },
  "cells": [
    {
      "cell_type": "markdown",
      "metadata": {
        "id": "SnDJqBLi0FYW",
        "colab_type": "text"
      },
      "source": [
        "<img align=\"left\" src=\"https://lever-client-logos.s3.amazonaws.com/864372b1-534c-480e-acd5-9711f850815c-1524247202159.png\" width=200> "
      ]
    },
    {
      "cell_type": "markdown",
      "metadata": {
        "id": "W5GjI1z5yNG4",
        "colab_type": "text"
      },
      "source": [
        "# Assignment:\n",
        "\n",
        "- Replicate the lesson code.\n",
        "\n",
        " - This means that if you haven't followed along already, type out the things that we did in class. Forcing your fingers to hit each key will help you internalize the syntax of what we're doing. Make sure you understand each line of code that you're writing, google things that you don't fully understand.\n",
        " - [Lambda Learning Method for DS - By Ryan Herr](https://docs.google.com/document/d/1ubOw9B3Hfip27hF2ZFnW3a3z9xAgrUDRReOEo-FHCVs/edit?usp=sharing)\n",
        "- Convert the `term` column from string to integer.\n",
        "- Make a column named `loan_status_is_great`. It should contain the integer 1 if `loan_status` is \"Current\" or \"Fully Paid.\" Else it should contain the integer 0.\n",
        "- Make `last_pymnt_d_month` and `last_pymnt_d_year` columns."
      ]
    },
    {
      "cell_type": "code",
      "metadata": {
        "id": "AazB4eFwym2p",
        "colab_type": "code",
        "colab": {}
      },
      "source": [
        "# Import Pandas. Because that's how we roll\n",
        "import pandas as pd\n",
        "import numpy as np"
      ],
      "execution_count": 0,
      "outputs": []
    },
    {
      "cell_type": "code",
      "metadata": {
        "id": "q4yfteNQ8ZBL",
        "colab_type": "code",
        "colab": {
          "base_uri": "https://localhost:8080/",
          "height": 204
        },
        "outputId": "7cf98eb0-ef7c-4c5f-9a2d-deaa27ee3950"
      },
      "source": [
        "# Get, unzip, inspect, and, if it please m'lord, load the data from lending club\n",
        "# Using shell commands\n",
        "!wget https://resources.lendingclub.com/LoanStats_2018Q4.csv.zip"
      ],
      "execution_count": 49,
      "outputs": [
        {
          "output_type": "stream",
          "text": [
            "--2020-01-14 22:14:20--  https://resources.lendingclub.com/LoanStats_2018Q4.csv.zip\n",
            "Resolving resources.lendingclub.com (resources.lendingclub.com)... 64.48.1.20\n",
            "Connecting to resources.lendingclub.com (resources.lendingclub.com)|64.48.1.20|:443... connected.\n",
            "HTTP request sent, awaiting response... 200 OK\n",
            "Length: unspecified [application/zip]\n",
            "Saving to: ‘LoanStats_2018Q4.csv.zip.1’\n",
            "\n",
            "LoanStats_2018Q4.cs     [             <=>    ]  21.72M   424KB/s    in 53s     \n",
            "\n",
            "2020-01-14 22:15:13 (422 KB/s) - ‘LoanStats_2018Q4.csv.zip.1’ saved [22776791]\n",
            "\n"
          ],
          "name": "stdout"
        }
      ]
    },
    {
      "cell_type": "code",
      "metadata": {
        "id": "mV-6sILY_uQ-",
        "colab_type": "code",
        "colab": {
          "base_uri": "https://localhost:8080/",
          "height": 68
        },
        "outputId": "17733bcf-cced-43f4-87c4-7fdc355faad1"
      },
      "source": [
        "!unzip LoanStats_2018Q4.csv.zip"
      ],
      "execution_count": 50,
      "outputs": [
        {
          "output_type": "stream",
          "text": [
            "Archive:  LoanStats_2018Q4.csv.zip\n",
            "replace LoanStats_2018Q4.csv? [y]es, [n]o, [A]ll, [N]one, [r]ename: y\n",
            "  inflating: LoanStats_2018Q4.csv    \n"
          ],
          "name": "stdout"
        }
      ]
    },
    {
      "cell_type": "code",
      "metadata": {
        "id": "XniiPCcJ8ii1",
        "colab_type": "code",
        "colab": {
          "base_uri": "https://localhost:8080/",
          "height": 207
        },
        "outputId": "73bc7e34-fd5c-45e6-e80c-dfd955386ed6"
      },
      "source": [
        "# Take a look. Just do it\n",
        "!head LoanStats_2018Q4.csv"
      ],
      "execution_count": 51,
      "outputs": [
        {
          "output_type": "stream",
          "text": [
            "Notes offered by Prospectus (https://www.lendingclub.com/info/prospectus.action)\n",
            "\"id\",\"member_id\",\"loan_amnt\",\"funded_amnt\",\"funded_amnt_inv\",\"term\",\"int_rate\",\"installment\",\"grade\",\"sub_grade\",\"emp_title\",\"emp_length\",\"home_ownership\",\"annual_inc\",\"verification_status\",\"issue_d\",\"loan_status\",\"pymnt_plan\",\"url\",\"desc\",\"purpose\",\"title\",\"zip_code\",\"addr_state\",\"dti\",\"delinq_2yrs\",\"earliest_cr_line\",\"inq_last_6mths\",\"mths_since_last_delinq\",\"mths_since_last_record\",\"open_acc\",\"pub_rec\",\"revol_bal\",\"revol_util\",\"total_acc\",\"initial_list_status\",\"out_prncp\",\"out_prncp_inv\",\"total_pymnt\",\"total_pymnt_inv\",\"total_rec_prncp\",\"total_rec_int\",\"total_rec_late_fee\",\"recoveries\",\"collection_recovery_fee\",\"last_pymnt_d\",\"last_pymnt_amnt\",\"next_pymnt_d\",\"last_credit_pull_d\",\"collections_12_mths_ex_med\",\"mths_since_last_major_derog\",\"policy_code\",\"application_type\",\"annual_inc_joint\",\"dti_joint\",\"verification_status_joint\",\"acc_now_delinq\",\"tot_coll_amt\",\"tot_cur_bal\",\"open_acc_6m\",\"open_act_il\",\"open_il_12m\",\"open_il_24m\",\"mths_since_rcnt_il\",\"total_bal_il\",\"il_util\",\"open_rv_12m\",\"open_rv_24m\",\"max_bal_bc\",\"all_util\",\"total_rev_hi_lim\",\"inq_fi\",\"total_cu_tl\",\"inq_last_12m\",\"acc_open_past_24mths\",\"avg_cur_bal\",\"bc_open_to_buy\",\"bc_util\",\"chargeoff_within_12_mths\",\"delinq_amnt\",\"mo_sin_old_il_acct\",\"mo_sin_old_rev_tl_op\",\"mo_sin_rcnt_rev_tl_op\",\"mo_sin_rcnt_tl\",\"mort_acc\",\"mths_since_recent_bc\",\"mths_since_recent_bc_dlq\",\"mths_since_recent_inq\",\"mths_since_recent_revol_delinq\",\"num_accts_ever_120_pd\",\"num_actv_bc_tl\",\"num_actv_rev_tl\",\"num_bc_sats\",\"num_bc_tl\",\"num_il_tl\",\"num_op_rev_tl\",\"num_rev_accts\",\"num_rev_tl_bal_gt_0\",\"num_sats\",\"num_tl_120dpd_2m\",\"num_tl_30dpd\",\"num_tl_90g_dpd_24m\",\"num_tl_op_past_12m\",\"pct_tl_nvr_dlq\",\"percent_bc_gt_75\",\"pub_rec_bankruptcies\",\"tax_liens\",\"tot_hi_cred_lim\",\"total_bal_ex_mort\",\"total_bc_limit\",\"total_il_high_credit_limit\",\"revol_bal_joint\",\"sec_app_earliest_cr_line\",\"sec_app_inq_last_6mths\",\"sec_app_mort_acc\",\"sec_app_open_acc\",\"sec_app_revol_util\",\"sec_app_open_act_il\",\"sec_app_num_rev_accts\",\"sec_app_chargeoff_within_12_mths\",\"sec_app_collections_12_mths_ex_med\",\"sec_app_mths_since_last_major_derog\",\"hardship_flag\",\"hardship_type\",\"hardship_reason\",\"hardship_status\",\"deferral_term\",\"hardship_amount\",\"hardship_start_date\",\"hardship_end_date\",\"payment_plan_start_date\",\"hardship_length\",\"hardship_dpd\",\"hardship_loan_status\",\"orig_projected_additional_accrued_interest\",\"hardship_payoff_balance_amount\",\"hardship_last_payment_amount\",\"debt_settlement_flag\",\"debt_settlement_flag_date\",\"settlement_status\",\"settlement_date\",\"settlement_amount\",\"settlement_percentage\",\"settlement_term\"\n",
            "\"\",\"\",\"6000\",\"6000\",\"6000\",\" 36 months\",\" 14.47%\",\"206.44\",\"C\",\"C2\",\"Manager\",\"10+ years\",\"RENT\",\"55000\",\"Verified\",\"Dec-2018\",\"Charged Off\",\"n\",\"\",\"\",\"credit_card\",\"Credit card refinancing\",\"104xx\",\"NY\",\"10.65\",\"0\",\"Jun-2006\",\"0\",\"\",\"\",\"6\",\"0\",\"4196\",\"91.2%\",\"8\",\"w\",\"0.00\",\"0.00\",\"1106.52\",\"1106.52\",\"546.14\",\"272.38\",\"0.0\",\"288.0\",\"51.84\",\"Apr-2019\",\"206.44\",\"\",\"Nov-2019\",\"0\",\"\",\"1\",\"Individual\",\"\",\"\",\"\",\"0\",\"0\",\"12514\",\"0\",\"2\",\"1\",\"1\",\"9\",\"8318\",\"74\",\"1\",\"1\",\"2807\",\"79\",\"4600\",\"1\",\"0\",\"2\",\"2\",\"2086\",\"344\",\"92\",\"0\",\"0\",\"33\",\"150\",\"9\",\"9\",\"0\",\"9\",\"\",\"9\",\"\",\"0\",\"3\",\"4\",\"3\",\"3\",\"3\",\"4\",\"5\",\"4\",\"6\",\"0\",\"0\",\"0\",\"2\",\"100\",\"100\",\"0\",\"0\",\"15800\",\"12514\",\"4300\",\"11200\",\"\",\"\",\"\",\"\",\"\",\"\",\"\",\"\",\"\",\"\",\"\",\"N\",\"\",\"\",\"\",\"\",\"\",\"\",\"\",\"\",\"\",\"\",\"\",\"\",\"\",\"\",\"Y\",\"Oct-2019\",\"ACTIVE\",\"Oct-2019\",\"3479\",\"60.01\",\"24\"\n",
            "\"\",\"\",\"24000\",\"24000\",\"24000\",\" 36 months\",\" 10.33%\",\"778.14\",\"B\",\"B1\",\"Maintenance Manager\",\"10+ years\",\"MORTGAGE\",\"100000\",\"Not Verified\",\"Dec-2018\",\"Current\",\"n\",\"\",\"\",\"debt_consolidation\",\"Debt consolidation\",\"606xx\",\"IL\",\"19.14\",\"0\",\"Oct-1996\",\"3\",\"39\",\"\",\"14\",\"0\",\"8547\",\"27.7%\",\"28\",\"w\",\"16807.30\",\"16807.30\",\"9317.02\",\"9317.02\",\"7192.70\",\"2124.32\",\"0.0\",\"0.0\",\"0.0\",\"Dec-2019\",\"778.14\",\"Jan-2020\",\"Nov-2019\",\"0\",\"57\",\"1\",\"Individual\",\"\",\"\",\"\",\"0\",\"0\",\"273876\",\"3\",\"5\",\"3\",\"5\",\"5\",\"40384\",\"66\",\"2\",\"4\",\"4368\",\"51\",\"30900\",\"8\",\"0\",\"8\",\"9\",\"19563\",\"17353\",\"33\",\"0\",\"0\",\"266\",\"178\",\"4\",\"4\",\"3\",\"4\",\"39\",\"1\",\"39\",\"1\",\"5\",\"5\",\"6\",\"8\",\"15\",\"7\",\"9\",\"5\",\"14\",\"0\",\"0\",\"0\",\"5\",\"82.1\",\"16.7\",\"0\",\"0\",\"335121\",\"50686\",\"25900\",\"61514\",\"\",\"\",\"\",\"\",\"\",\"\",\"\",\"\",\"\",\"\",\"\",\"N\",\"\",\"\",\"\",\"\",\"\",\"\",\"\",\"\",\"\",\"\",\"\",\"\",\"\",\"\",\"N\",\"\",\"\",\"\",\"\",\"\",\"\"\n",
            "\"\",\"\",\"30000\",\"30000\",\"30000\",\" 36 months\",\" 15.02%\",\"1040.26\",\"C\",\"C3\",\"Firefighter \",\"10+ years\",\"RENT\",\"90000\",\"Verified\",\"Dec-2018\",\"Fully Paid\",\"n\",\"\",\"\",\"debt_consolidation\",\"Debt consolidation\",\"681xx\",\"NE\",\"22.23\",\"0\",\"May-2007\",\"1\",\"\",\"\",\"8\",\"0\",\"25754\",\"48%\",\"23\",\"w\",\"0.00\",\"0.00\",\"30883.673711683\",\"30883.67\",\"30000.00\",\"883.67\",\"0.0\",\"0.0\",\"0.0\",\"Feb-2019\",\"28382.51\",\"\",\"Nov-2019\",\"0\",\"\",\"1\",\"Individual\",\"\",\"\",\"\",\"0\",\"0\",\"51370\",\"1\",\"2\",\"1\",\"2\",\"9\",\"25616\",\"71\",\"2\",\"3\",\"9621\",\"57\",\"53600\",\"0\",\"2\",\"1\",\"5\",\"6421\",\"22030\",\"47\",\"0\",\"0\",\"123\",\"139\",\"3\",\"3\",\"3\",\"3\",\"\",\"3\",\"\",\"0\",\"4\",\"6\",\"4\",\"5\",\"11\",\"6\",\"9\",\"6\",\"8\",\"0\",\"0\",\"0\",\"3\",\"100\",\"50\",\"0\",\"0\",\"89849\",\"51370\",\"41600\",\"36249\",\"\",\"\",\"\",\"\",\"\",\"\",\"\",\"\",\"\",\"\",\"\",\"N\",\"\",\"\",\"\",\"\",\"\",\"\",\"\",\"\",\"\",\"\",\"\",\"\",\"\",\"\",\"N\",\"\",\"\",\"\",\"\",\"\",\"\"\n",
            "\"\",\"\",\"8000\",\"8000\",\"8000\",\" 36 months\",\" 12.98%\",\"269.48\",\"B\",\"B5\",\"Controller\",\"4 years\",\"MORTGAGE\",\"95000\",\"Source Verified\",\"Dec-2018\",\"Current\",\"n\",\"\",\"\",\"credit_card\",\"Credit card refinancing\",\"480xx\",\"MI\",\"9.44\",\"0\",\"Mar-2009\",\"2\",\"73\",\"\",\"7\",\"0\",\"11434\",\"33.3%\",\"20\",\"w\",\"1707.34\",\"1707.34\",\"6855.63\",\"6855.63\",\"6292.66\",\"562.97\",\"0.0\",\"0.0\",\"0.0\",\"Dec-2019\",\"269.48\",\"Jan-2020\",\"Dec-2019\",\"0\",\"73\",\"1\",\"Individual\",\"\",\"\",\"\",\"0\",\"0\",\"247933\",\"5\",\"1\",\"3\",\"4\",\"2\",\"13716\",\"98\",\"4\",\"5\",\"8918\",\"52\",\"34300\",\"2\",\"0\",\"7\",\"10\",\"35419\",\"22866\",\"33.3\",\"0\",\"0\",\"13\",\"117\",\"6\",\"2\",\"1\",\"6\",\"73\",\"2\",\"73\",\"1\",\"3\",\"3\",\"5\",\"15\",\"4\",\"5\",\"15\",\"3\",\"7\",\"0\",\"0\",\"0\",\"8\",\"100\",\"20\",\"0\",\"0\",\"271550\",\"25150\",\"34300\",\"14000\",\"\",\"\",\"\",\"\",\"\",\"\",\"\",\"\",\"\",\"\",\"\",\"N\",\"\",\"\",\"\",\"\",\"\",\"\",\"\",\"\",\"\",\"\",\"\",\"\",\"\",\"\",\"N\",\"\",\"\",\"\",\"\",\"\",\"\"\n",
            "\"\",\"\",\"22400\",\"22400\",\"22400\",\" 60 months\",\" 16.14%\",\"546.4\",\"C\",\"C4\",\"Paramedic/ Fire Fighter\",\"10+ years\",\"OWN\",\"56000\",\"Source Verified\",\"Dec-2018\",\"Current\",\"n\",\"\",\"\",\"credit_card\",\"Credit card refinancing\",\"234xx\",\"VA\",\"18.47\",\"0\",\"Dec-2004\",\"0\",\"75\",\"\",\"15\",\"0\",\"13555\",\"38.2%\",\"22\",\"w\",\"19230.91\",\"19230.91\",\"6526.67\",\"6526.67\",\"3169.09\",\"3357.58\",\"0.0\",\"0.0\",\"0.0\",\"Dec-2019\",\"546.4\",\"Jan-2020\",\"Nov-2019\",\"0\",\"\",\"1\",\"Individual\",\"\",\"\",\"\",\"0\",\"0\",\"217072\",\"0\",\"3\",\"1\",\"1\",\"7\",\"18515\",\"79\",\"1\",\"1\",\"5789\",\"55\",\"35500\",\"1\",\"0\",\"4\",\"2\",\"14471\",\"15054\",\"46.6\",\"0\",\"0\",\"113\",\"168\",\"7\",\"7\",\"5\",\"36\",\"\",\"5\",\"\",\"0\",\"5\",\"7\",\"8\",\"8\",\"5\",\"11\",\"12\",\"7\",\"15\",\"0\",\"0\",\"0\",\"2\",\"95.5\",\"25\",\"0\",\"0\",\"253539\",\"32070\",\"28200\",\"23364\",\"\",\"\",\"\",\"\",\"\",\"\",\"\",\"\",\"\",\"\",\"\",\"N\",\"\",\"\",\"\",\"\",\"\",\"\",\"\",\"\",\"\",\"\",\"\",\"\",\"\",\"\",\"N\",\"\",\"\",\"\",\"\",\"\",\"\"\n",
            "\"\",\"\",\"5000\",\"5000\",\"5000\",\" 36 months\",\" 12.98%\",\"168.43\",\"B\",\"B5\",\"Consultant\",\"2 years\",\"RENT\",\"80000\",\"Not Verified\",\"Dec-2018\",\"Current\",\"n\",\"\",\"\",\"debt_consolidation\",\"Debt consolidation\",\"100xx\",\"NY\",\"2.39\",\"0\",\"Jan-2014\",\"1\",\"\",\"\",\"8\",\"0\",\"7356\",\"9.4%\",\"9\",\"w\",\"3543.19\",\"3543.19\",\"2015.75\",\"2015.75\",\"1456.81\",\"558.94\",\"0.0\",\"0.0\",\"0.0\",\"Dec-2019\",\"168.43\",\"Jan-2020\",\"Nov-2019\",\"0\",\"\",\"1\",\"Individual\",\"\",\"\",\"\",\"0\",\"0\",\"7356\",\"0\",\"0\",\"0\",\"0\",\"\",\"0\",\"\",\"2\",\"2\",\"4957\",\"9\",\"78200\",\"1\",\"0\",\"1\",\"2\",\"920\",\"70844\",\"9.4\",\"0\",\"0\",\"\",\"59\",\"11\",\"11\",\"0\",\"11\",\"\",\"1\",\"\",\"0\",\"4\",\"4\",\"8\",\"8\",\"0\",\"8\",\"8\",\"4\",\"8\",\"0\",\"0\",\"0\",\"2\",\"100\",\"12.5\",\"0\",\"0\",\"78200\",\"7356\",\"78200\",\"0\",\"\",\"\",\"\",\"\",\"\",\"\",\"\",\"\",\"\",\"\",\"\",\"N\",\"\",\"\",\"\",\"\",\"\",\"\",\"\",\"\",\"\",\"\",\"\",\"\",\"\",\"\",\"N\",\"\",\"\",\"\",\"\",\"\",\"\"\n",
            "\"\",\"\",\"27000\",\"27000\",\"27000\",\" 60 months\",\" 15.02%\",\"642.62\",\"C\",\"C3\",\"Supervisor \",\"10+ years\",\"MORTGAGE\",\"45000\",\"Source Verified\",\"Dec-2018\",\"Current\",\"n\",\"\",\"\",\"debt_consolidation\",\"Debt consolidation\",\"656xx\",\"MO\",\"23.55\",\"2\",\"Oct-2006\",\"0\",\"12\",\"\",\"11\",\"0\",\"12903\",\"64.8%\",\"24\",\"w\",\"23082.62\",\"23082.62\",\"7677.64\",\"7677.64\",\"3917.38\",\"3760.26\",\"0.0\",\"0.0\",\"0.0\",\"Dec-2019\",\"642.62\",\"Jan-2020\",\"Dec-2019\",\"0\",\"\",\"1\",\"Individual\",\"\",\"\",\"\",\"0\",\"0\",\"21902\",\"0\",\"1\",\"0\",\"0\",\"42\",\"8999\",\"42\",\"0\",\"1\",\"5787\",\"53\",\"19900\",\"0\",\"1\",\"0\",\"1\",\"1991\",\"3225\",\"78.1\",\"0\",\"0\",\"144\",\"146\",\"17\",\"17\",\"1\",\"17\",\"33\",\"\",\"12\",\"0\",\"6\",\"8\",\"7\",\"13\",\"5\",\"10\",\"18\",\"8\",\"11\",\"0\",\"0\",\"0\",\"0\",\"87.5\",\"57.1\",\"0\",\"0\",\"41500\",\"21902\",\"14700\",\"21600\",\"\",\"\",\"\",\"\",\"\",\"\",\"\",\"\",\"\",\"\",\"\",\"N\",\"\",\"\",\"\",\"\",\"\",\"\",\"\",\"\",\"\",\"\",\"\",\"\",\"\",\"\",\"N\",\"\",\"\",\"\",\"\",\"\",\"\"\n",
            "\"\",\"\",\"10000\",\"10000\",\"10000\",\" 36 months\",\" 16.14%\",\"352.27\",\"C\",\"C4\",\"\",\"< 1 year\",\"MORTGAGE\",\"90000\",\"Not Verified\",\"Dec-2018\",\"Current\",\"n\",\"\",\"\",\"debt_consolidation\",\"Debt consolidation\",\"934xx\",\"CA\",\"7.85\",\"0\",\"Jun-2009\",\"0\",\"\",\"\",\"10\",\"0\",\"17271\",\"48.5%\",\"12\",\"w\",\"7184.51\",\"7184.51\",\"4213.79\",\"4213.79\",\"2815.49\",\"1398.30\",\"0.0\",\"0.0\",\"0.0\",\"Dec-2019\",\"352.27\",\"Jan-2020\",\"Nov-2019\",\"0\",\"\",\"1\",\"Individual\",\"\",\"\",\"\",\"0\",\"0\",\"24085\",\"1\",\"1\",\"0\",\"1\",\"15\",\"6814\",\"68\",\"2\",\"5\",\"11822\",\"53\",\"35600\",\"1\",\"0\",\"0\",\"6\",\"2409\",\"10982\",\"59.3\",\"0\",\"0\",\"114\",\"56\",\"1\",\"1\",\"0\",\"1\",\"\",\"15\",\"\",\"0\",\"3\",\"4\",\"8\",\"8\",\"2\",\"9\",\"10\",\"4\",\"10\",\"0\",\"0\",\"0\",\"2\",\"100\",\"37.5\",\"0\",\"0\",\"45600\",\"24085\",\"27000\",\"10000\",\"\",\"\",\"\",\"\",\"\",\"\",\"\",\"\",\"\",\"\",\"\",\"N\",\"\",\"\",\"\",\"\",\"\",\"\",\"\",\"\",\"\",\"\",\"\",\"\",\"\",\"\",\"N\",\"\",\"\",\"\",\"\",\"\",\"\"\n"
          ],
          "name": "stdout"
        }
      ]
    },
    {
      "cell_type": "code",
      "metadata": {
        "id": "MAblX-9_8n4C",
        "colab_type": "code",
        "colab": {
          "base_uri": "https://localhost:8080/",
          "height": 207
        },
        "outputId": "ee163035-f39c-46af-d275-387e42e8a71a"
      },
      "source": [
        "!tail LoanStats_2018Q4.csv"
      ],
      "execution_count": 52,
      "outputs": [
        {
          "output_type": "stream",
          "text": [
            "\"\",\"\",\"5600\",\"5600\",\"5600\",\" 36 months\",\" 13.56%\",\"190.21\",\"C\",\"C1\",\"\",\"n/a\",\"RENT\",\"15600\",\"Not Verified\",\"Oct-2018\",\"Current\",\"n\",\"\",\"\",\"credit_card\",\"Credit card refinancing\",\"836xx\",\"ID\",\"15.31\",\"0\",\"Aug-2012\",\"0\",\"\",\"97\",\"9\",\"1\",\"5996\",\"34.5%\",\"11\",\"w\",\"3686.37\",\"3686.37\",\"2652.39\",\"2652.39\",\"1913.63\",\"738.76\",\"0.0\",\"0.0\",\"0.0\",\"Dec-2019\",\"190.21\",\"Jan-2020\",\"Nov-2019\",\"0\",\"\",\"1\",\"Individual\",\"\",\"\",\"\",\"0\",\"0\",\"5996\",\"0\",\"0\",\"0\",\"1\",\"20\",\"0\",\"\",\"0\",\"2\",\"3017\",\"35\",\"17400\",\"1\",\"0\",\"0\",\"3\",\"750\",\"4689\",\"45.5\",\"0\",\"0\",\"20\",\"73\",\"13\",\"13\",\"0\",\"13\",\"\",\"20\",\"\",\"0\",\"3\",\"5\",\"4\",\"4\",\"1\",\"9\",\"10\",\"5\",\"9\",\"0\",\"0\",\"0\",\"0\",\"100\",\"25\",\"1\",\"0\",\"17400\",\"5996\",\"8600\",\"0\",\"\",\"\",\"\",\"\",\"\",\"\",\"\",\"\",\"\",\"\",\"\",\"N\",\"\",\"\",\"\",\"\",\"\",\"\",\"\",\"\",\"\",\"\",\"\",\"\",\"\",\"\",\"N\",\"\",\"\",\"\",\"\",\"\",\"\"\n",
            "\"\",\"\",\"23000\",\"23000\",\"23000\",\" 36 months\",\" 15.02%\",\"797.53\",\"C\",\"C3\",\"Tax Consultant\",\"10+ years\",\"MORTGAGE\",\"75000\",\"Source Verified\",\"Oct-2018\",\"Charged Off\",\"n\",\"\",\"\",\"debt_consolidation\",\"Debt consolidation\",\"352xx\",\"AL\",\"20.95\",\"1\",\"Aug-1985\",\"2\",\"22\",\"\",\"12\",\"0\",\"22465\",\"43.6%\",\"28\",\"w\",\"0.00\",\"0.00\",\"1547.08\",\"1547.08\",\"1025.67\",\"521.41\",\"0.0\",\"0.0\",\"0.0\",\"Dec-2018\",\"797.53\",\"\",\"Nov-2018\",\"0\",\"\",\"1\",\"Individual\",\"\",\"\",\"\",\"0\",\"0\",\"259658\",\"4\",\"2\",\"3\",\"3\",\"6\",\"18149\",\"86\",\"4\",\"6\",\"12843\",\"56\",\"51500\",\"2\",\"2\",\"5\",\"11\",\"21638\",\"26321\",\"44.1\",\"0\",\"0\",\"12\",\"397\",\"4\",\"4\",\"6\",\"5\",\"22\",\"4\",\"22\",\"0\",\"4\",\"5\",\"7\",\"14\",\"3\",\"9\",\"19\",\"5\",\"12\",\"0\",\"0\",\"0\",\"7\",\"96.4\",\"14.3\",\"0\",\"0\",\"296500\",\"40614\",\"47100\",\"21000\",\"\",\"\",\"\",\"\",\"\",\"\",\"\",\"\",\"\",\"\",\"\",\"N\",\"\",\"\",\"\",\"\",\"\",\"\",\"\",\"\",\"\",\"\",\"\",\"\",\"\",\"\",\"N\",\"\",\"\",\"\",\"\",\"\",\"\"\n",
            "\"\",\"\",\"10000\",\"10000\",\"10000\",\" 36 months\",\" 15.02%\",\"346.76\",\"C\",\"C3\",\"security guard\",\"5 years\",\"MORTGAGE\",\"38000\",\"Not Verified\",\"Oct-2018\",\"Current\",\"n\",\"\",\"\",\"debt_consolidation\",\"Debt consolidation\",\"443xx\",\"OH\",\"13.16\",\"3\",\"Jul-1982\",\"0\",\"6\",\"\",\"11\",\"0\",\"5634\",\"37.1%\",\"16\",\"w\",\"6632.21\",\"6632.21\",\"4846.3\",\"4846.30\",\"3367.79\",\"1478.51\",\"0.0\",\"0.0\",\"0.0\",\"Dec-2019\",\"346.76\",\"Jan-2020\",\"Nov-2019\",\"0\",\"\",\"1\",\"Individual\",\"\",\"\",\"\",\"0\",\"155\",\"77424\",\"0\",\"1\",\"0\",\"0\",\"34\",\"200\",\"10\",\"1\",\"1\",\"1866\",\"42\",\"15200\",\"2\",\"0\",\"0\",\"2\",\"7039\",\"4537\",\"50.1\",\"0\",\"0\",\"34\",\"434\",\"11\",\"11\",\"3\",\"11\",\"6\",\"17\",\"6\",\"0\",\"3\",\"5\",\"5\",\"6\",\"1\",\"8\",\"11\",\"5\",\"11\",\"0\",\"0\",\"0\",\"1\",\"73.3\",\"40\",\"0\",\"0\",\"91403\",\"9323\",\"9100\",\"2000\",\"\",\"\",\"\",\"\",\"\",\"\",\"\",\"\",\"\",\"\",\"\",\"N\",\"\",\"\",\"\",\"\",\"\",\"\",\"\",\"\",\"\",\"\",\"\",\"\",\"\",\"\",\"N\",\"\",\"\",\"\",\"\",\"\",\"\"\n",
            "\"\",\"\",\"5000\",\"5000\",\"5000\",\" 36 months\",\" 13.56%\",\"169.83\",\"C\",\"C1\",\"Payoff Clerk\",\"10+ years\",\"MORTGAGE\",\"35360\",\"Not Verified\",\"Oct-2018\",\"Current\",\"n\",\"\",\"\",\"debt_consolidation\",\"Debt consolidation\",\"381xx\",\"TN\",\"11.3\",\"1\",\"Jun-2006\",\"0\",\"21\",\"\",\"9\",\"0\",\"2597\",\"27.3%\",\"15\",\"f\",\"3291.41\",\"3291.41\",\"2373.85\",\"2373.85\",\"1708.59\",\"665.26\",\"0.0\",\"0.0\",\"0.0\",\"Dec-2019\",\"169.83\",\"Jan-2020\",\"Nov-2019\",\"0\",\"\",\"1\",\"Individual\",\"\",\"\",\"\",\"0\",\"1413\",\"69785\",\"0\",\"2\",\"0\",\"1\",\"16\",\"2379\",\"40\",\"3\",\"4\",\"1826\",\"32\",\"9500\",\"0\",\"0\",\"1\",\"5\",\"8723\",\"1174\",\"60.9\",\"0\",\"0\",\"147\",\"85\",\"9\",\"9\",\"2\",\"10\",\"21\",\"9\",\"21\",\"0\",\"1\",\"3\",\"2\",\"2\",\"6\",\"6\",\"7\",\"3\",\"9\",\"0\",\"0\",\"0\",\"3\",\"92.9\",\"50\",\"0\",\"0\",\"93908\",\"4976\",\"3000\",\"6028\",\"\",\"\",\"\",\"\",\"\",\"\",\"\",\"\",\"\",\"\",\"\",\"N\",\"\",\"\",\"\",\"\",\"\",\"\",\"\",\"\",\"\",\"\",\"\",\"\",\"\",\"\",\"N\",\"\",\"\",\"\",\"\",\"\",\"\"\n",
            "\"\",\"\",\"10000\",\"10000\",\"9750\",\" 36 months\",\" 11.06%\",\"327.68\",\"B\",\"B3\",\"\",\"n/a\",\"RENT\",\"44400\",\"Source Verified\",\"Oct-2018\",\"Current\",\"n\",\"\",\"\",\"credit_card\",\"Credit card refinancing\",\"980xx\",\"WA\",\"11.78\",\"0\",\"Oct-2008\",\"2\",\"40\",\"\",\"15\",\"0\",\"6269\",\"13.1%\",\"25\",\"f\",\"6497.81\",\"6335.37\",\"4572.16\",\"4457.86\",\"3502.19\",\"1069.97\",\"0.0\",\"0.0\",\"0.0\",\"Dec-2019\",\"327.68\",\"Jan-2020\",\"Nov-2019\",\"0\",\"53\",\"1\",\"Individual\",\"\",\"\",\"\",\"0\",\"520\",\"16440\",\"3\",\"1\",\"1\",\"1\",\"2\",\"10171\",\"100\",\"2\",\"5\",\"404\",\"28\",\"47700\",\"0\",\"3\",\"5\",\"6\",\"1265\",\"20037\",\"2.3\",\"0\",\"0\",\"61\",\"119\",\"1\",\"1\",\"0\",\"1\",\"\",\"1\",\"40\",\"1\",\"2\",\"4\",\"6\",\"8\",\"3\",\"14\",\"22\",\"4\",\"15\",\"0\",\"0\",\"0\",\"3\",\"92\",\"0\",\"0\",\"0\",\"57871\",\"16440\",\"20500\",\"10171\",\"\",\"\",\"\",\"\",\"\",\"\",\"\",\"\",\"\",\"\",\"\",\"N\",\"\",\"\",\"\",\"\",\"\",\"\",\"\",\"\",\"\",\"\",\"\",\"\",\"\",\"\",\"N\",\"\",\"\",\"\",\"\",\"\",\"\"\n",
            "\"\",\"\",\"10000\",\"10000\",\"10000\",\" 36 months\",\" 16.91%\",\"356.08\",\"C\",\"C5\",\"Key Accounts Manager\",\"2 years\",\"RENT\",\"80000\",\"Not Verified\",\"Oct-2018\",\"Current\",\"n\",\"\",\"\",\"other\",\"Other\",\"021xx\",\"MA\",\"17.72\",\"1\",\"Sep-2006\",\"0\",\"14\",\"\",\"17\",\"0\",\"1942\",\"30.8%\",\"31\",\"w\",\"6695.63\",\"6695.63\",\"4975.73\",\"4975.73\",\"3304.37\",\"1671.36\",\"0.0\",\"0.0\",\"0.0\",\"Dec-2019\",\"356.08\",\"Jan-2020\",\"Nov-2019\",\"0\",\"25\",\"1\",\"Individual\",\"\",\"\",\"\",\"0\",\"0\",\"59194\",\"0\",\"15\",\"1\",\"1\",\"12\",\"57252\",\"85\",\"0\",\"0\",\"1942\",\"80\",\"6300\",\"0\",\"5\",\"0\",\"1\",\"3482\",\"2058\",\"48.5\",\"0\",\"0\",\"144\",\"142\",\"40\",\"12\",\"0\",\"131\",\"30\",\"\",\"30\",\"3\",\"1\",\"1\",\"1\",\"5\",\"22\",\"2\",\"9\",\"1\",\"17\",\"0\",\"0\",\"0\",\"1\",\"74.2\",\"0\",\"0\",\"0\",\"73669\",\"59194\",\"4000\",\"67369\",\"\",\"\",\"\",\"\",\"\",\"\",\"\",\"\",\"\",\"\",\"\",\"N\",\"\",\"\",\"\",\"\",\"\",\"\",\"\",\"\",\"\",\"\",\"\",\"\",\"\",\"\",\"N\",\"\",\"\",\"\",\"\",\"\",\"\"\n",
            "\n",
            "\n",
            "Total amount funded in policy code 1: 2050652925\n",
            "Total amount funded in policy code 2: 820081797\n"
          ],
          "name": "stdout"
        }
      ]
    },
    {
      "cell_type": "code",
      "metadata": {
        "id": "NRAFnTJI8p7E",
        "colab_type": "code",
        "colab": {
          "base_uri": "https://localhost:8080/",
          "height": 71
        },
        "outputId": "73333875-1692-4c29-fe33-3e98dc7ac57f"
      },
      "source": [
        "# Two extra rows on top\n",
        "# Two or three or something rows on bottom\n",
        "# 2nd row, row[1], has headers\n",
        "# So load using 2nd row, row[1] as header and skipfooters 2\n",
        "# Without passing parameter engine=python, got warning\n",
        "# # /usr/local/lib/python3.6/dist-packages/ipykernel_launcher.py:1: ParserWarning: Falling back to the 'python' engine because the 'c' engine does not support skipfooter; you can avoid this warning by specifying engine='python'.\n",
        "#   \"\"\"Entry point for launching an IPython kernel.\n",
        "df = pd.read_csv('LoanStats_2018Q4.csv', header=1, skipfooter=2)"
      ],
      "execution_count": 53,
      "outputs": [
        {
          "output_type": "stream",
          "text": [
            "/usr/local/lib/python3.6/dist-packages/ipykernel_launcher.py:1: ParserWarning: Falling back to the 'python' engine because the 'c' engine does not support skipfooter; you can avoid this warning by specifying engine='python'.\n",
            "  \"\"\"Entry point for launching an IPython kernel.\n"
          ],
          "name": "stderr"
        }
      ]
    },
    {
      "cell_type": "code",
      "metadata": {
        "id": "BuzctgHlBVG4",
        "colab_type": "code",
        "colab": {
          "base_uri": "https://localhost:8080/",
          "height": 346
        },
        "outputId": "d6677af3-e6e5-4daa-dd94-534c6eda9252"
      },
      "source": [
        "df.describe()"
      ],
      "execution_count": 54,
      "outputs": [
        {
          "output_type": "execute_result",
          "data": {
            "text/html": [
              "<div>\n",
              "<style scoped>\n",
              "    .dataframe tbody tr th:only-of-type {\n",
              "        vertical-align: middle;\n",
              "    }\n",
              "\n",
              "    .dataframe tbody tr th {\n",
              "        vertical-align: top;\n",
              "    }\n",
              "\n",
              "    .dataframe thead th {\n",
              "        text-align: right;\n",
              "    }\n",
              "</style>\n",
              "<table border=\"1\" class=\"dataframe\">\n",
              "  <thead>\n",
              "    <tr style=\"text-align: right;\">\n",
              "      <th></th>\n",
              "      <th>id</th>\n",
              "      <th>member_id</th>\n",
              "      <th>loan_amnt</th>\n",
              "      <th>funded_amnt</th>\n",
              "      <th>funded_amnt_inv</th>\n",
              "      <th>installment</th>\n",
              "      <th>annual_inc</th>\n",
              "      <th>url</th>\n",
              "      <th>desc</th>\n",
              "      <th>dti</th>\n",
              "      <th>delinq_2yrs</th>\n",
              "      <th>inq_last_6mths</th>\n",
              "      <th>mths_since_last_delinq</th>\n",
              "      <th>mths_since_last_record</th>\n",
              "      <th>open_acc</th>\n",
              "      <th>pub_rec</th>\n",
              "      <th>revol_bal</th>\n",
              "      <th>total_acc</th>\n",
              "      <th>out_prncp</th>\n",
              "      <th>out_prncp_inv</th>\n",
              "      <th>total_pymnt</th>\n",
              "      <th>total_pymnt_inv</th>\n",
              "      <th>total_rec_prncp</th>\n",
              "      <th>total_rec_int</th>\n",
              "      <th>total_rec_late_fee</th>\n",
              "      <th>recoveries</th>\n",
              "      <th>collection_recovery_fee</th>\n",
              "      <th>last_pymnt_amnt</th>\n",
              "      <th>collections_12_mths_ex_med</th>\n",
              "      <th>mths_since_last_major_derog</th>\n",
              "      <th>policy_code</th>\n",
              "      <th>annual_inc_joint</th>\n",
              "      <th>dti_joint</th>\n",
              "      <th>acc_now_delinq</th>\n",
              "      <th>tot_coll_amt</th>\n",
              "      <th>tot_cur_bal</th>\n",
              "      <th>open_acc_6m</th>\n",
              "      <th>open_act_il</th>\n",
              "      <th>open_il_12m</th>\n",
              "      <th>open_il_24m</th>\n",
              "      <th>...</th>\n",
              "      <th>num_actv_rev_tl</th>\n",
              "      <th>num_bc_sats</th>\n",
              "      <th>num_bc_tl</th>\n",
              "      <th>num_il_tl</th>\n",
              "      <th>num_op_rev_tl</th>\n",
              "      <th>num_rev_accts</th>\n",
              "      <th>num_rev_tl_bal_gt_0</th>\n",
              "      <th>num_sats</th>\n",
              "      <th>num_tl_120dpd_2m</th>\n",
              "      <th>num_tl_30dpd</th>\n",
              "      <th>num_tl_90g_dpd_24m</th>\n",
              "      <th>num_tl_op_past_12m</th>\n",
              "      <th>pct_tl_nvr_dlq</th>\n",
              "      <th>percent_bc_gt_75</th>\n",
              "      <th>pub_rec_bankruptcies</th>\n",
              "      <th>tax_liens</th>\n",
              "      <th>tot_hi_cred_lim</th>\n",
              "      <th>total_bal_ex_mort</th>\n",
              "      <th>total_bc_limit</th>\n",
              "      <th>total_il_high_credit_limit</th>\n",
              "      <th>revol_bal_joint</th>\n",
              "      <th>sec_app_inq_last_6mths</th>\n",
              "      <th>sec_app_mort_acc</th>\n",
              "      <th>sec_app_open_acc</th>\n",
              "      <th>sec_app_revol_util</th>\n",
              "      <th>sec_app_open_act_il</th>\n",
              "      <th>sec_app_num_rev_accts</th>\n",
              "      <th>sec_app_chargeoff_within_12_mths</th>\n",
              "      <th>sec_app_collections_12_mths_ex_med</th>\n",
              "      <th>sec_app_mths_since_last_major_derog</th>\n",
              "      <th>deferral_term</th>\n",
              "      <th>hardship_amount</th>\n",
              "      <th>hardship_length</th>\n",
              "      <th>hardship_dpd</th>\n",
              "      <th>orig_projected_additional_accrued_interest</th>\n",
              "      <th>hardship_payoff_balance_amount</th>\n",
              "      <th>hardship_last_payment_amount</th>\n",
              "      <th>settlement_amount</th>\n",
              "      <th>settlement_percentage</th>\n",
              "      <th>settlement_term</th>\n",
              "    </tr>\n",
              "  </thead>\n",
              "  <tbody>\n",
              "    <tr>\n",
              "      <th>count</th>\n",
              "      <td>0.0</td>\n",
              "      <td>0.0</td>\n",
              "      <td>128397.000000</td>\n",
              "      <td>128397.000000</td>\n",
              "      <td>128397.000000</td>\n",
              "      <td>128397.000000</td>\n",
              "      <td>1.283970e+05</td>\n",
              "      <td>0.0</td>\n",
              "      <td>0.0</td>\n",
              "      <td>128160.000000</td>\n",
              "      <td>128397.000000</td>\n",
              "      <td>128397.000000</td>\n",
              "      <td>56207.000000</td>\n",
              "      <td>15447.000000</td>\n",
              "      <td>128397.000000</td>\n",
              "      <td>128397.000000</td>\n",
              "      <td>1.283970e+05</td>\n",
              "      <td>128397.000000</td>\n",
              "      <td>128397.000000</td>\n",
              "      <td>128397.000000</td>\n",
              "      <td>128397.000000</td>\n",
              "      <td>128397.000000</td>\n",
              "      <td>128397.000000</td>\n",
              "      <td>128397.000000</td>\n",
              "      <td>128397.000000</td>\n",
              "      <td>128397.000000</td>\n",
              "      <td>128397.000000</td>\n",
              "      <td>128397.000000</td>\n",
              "      <td>128397.000000</td>\n",
              "      <td>29174.000000</td>\n",
              "      <td>128397.0</td>\n",
              "      <td>1.677800e+04</td>\n",
              "      <td>16778.000000</td>\n",
              "      <td>128397.0</td>\n",
              "      <td>128397.000000</td>\n",
              "      <td>1.283970e+05</td>\n",
              "      <td>128397.000000</td>\n",
              "      <td>128397.000000</td>\n",
              "      <td>128397.000000</td>\n",
              "      <td>128397.000000</td>\n",
              "      <td>...</td>\n",
              "      <td>128397.000000</td>\n",
              "      <td>128397.000000</td>\n",
              "      <td>128397.000000</td>\n",
              "      <td>128397.000000</td>\n",
              "      <td>128397.000000</td>\n",
              "      <td>128397.000000</td>\n",
              "      <td>128397.000000</td>\n",
              "      <td>128397.000000</td>\n",
              "      <td>125538.0</td>\n",
              "      <td>128397.0</td>\n",
              "      <td>128397.000000</td>\n",
              "      <td>128397.000000</td>\n",
              "      <td>128397.000000</td>\n",
              "      <td>126705.000000</td>\n",
              "      <td>128397.000000</td>\n",
              "      <td>128397.0</td>\n",
              "      <td>1.283970e+05</td>\n",
              "      <td>1.283970e+05</td>\n",
              "      <td>128397.000000</td>\n",
              "      <td>1.283970e+05</td>\n",
              "      <td>1.677800e+04</td>\n",
              "      <td>16778.000000</td>\n",
              "      <td>16778.000000</td>\n",
              "      <td>16778.000000</td>\n",
              "      <td>16520.000000</td>\n",
              "      <td>16778.000000</td>\n",
              "      <td>16778.000000</td>\n",
              "      <td>16778.000000</td>\n",
              "      <td>16778.000000</td>\n",
              "      <td>5152.000000</td>\n",
              "      <td>233.0</td>\n",
              "      <td>233.000000</td>\n",
              "      <td>233.0</td>\n",
              "      <td>233.000000</td>\n",
              "      <td>206.000000</td>\n",
              "      <td>233.000000</td>\n",
              "      <td>233.000000</td>\n",
              "      <td>451.000000</td>\n",
              "      <td>451.000000</td>\n",
              "      <td>451.000000</td>\n",
              "    </tr>\n",
              "    <tr>\n",
              "      <th>mean</th>\n",
              "      <td>NaN</td>\n",
              "      <td>NaN</td>\n",
              "      <td>15971.190332</td>\n",
              "      <td>15971.190332</td>\n",
              "      <td>15968.367147</td>\n",
              "      <td>463.248186</td>\n",
              "      <td>8.279682e+04</td>\n",
              "      <td>NaN</td>\n",
              "      <td>NaN</td>\n",
              "      <td>19.932898</td>\n",
              "      <td>0.227848</td>\n",
              "      <td>0.447035</td>\n",
              "      <td>36.879125</td>\n",
              "      <td>86.128957</td>\n",
              "      <td>11.564086</td>\n",
              "      <td>0.121841</td>\n",
              "      <td>1.689701e+04</td>\n",
              "      <td>22.677290</td>\n",
              "      <td>9530.315113</td>\n",
              "      <td>9528.904505</td>\n",
              "      <td>7596.640685</td>\n",
              "      <td>7595.021767</td>\n",
              "      <td>5805.215009</td>\n",
              "      <td>1765.306966</td>\n",
              "      <td>0.948546</td>\n",
              "      <td>25.170160</td>\n",
              "      <td>4.530629</td>\n",
              "      <td>2273.515983</td>\n",
              "      <td>0.017960</td>\n",
              "      <td>46.553369</td>\n",
              "      <td>1.0</td>\n",
              "      <td>1.335526e+05</td>\n",
              "      <td>19.225694</td>\n",
              "      <td>0.0</td>\n",
              "      <td>188.311199</td>\n",
              "      <td>1.467931e+05</td>\n",
              "      <td>0.939500</td>\n",
              "      <td>2.760181</td>\n",
              "      <td>0.689066</td>\n",
              "      <td>1.572552</td>\n",
              "      <td>...</td>\n",
              "      <td>5.414122</td>\n",
              "      <td>4.882170</td>\n",
              "      <td>7.065998</td>\n",
              "      <td>8.288262</td>\n",
              "      <td>8.199280</td>\n",
              "      <td>12.866835</td>\n",
              "      <td>5.386333</td>\n",
              "      <td>11.546750</td>\n",
              "      <td>0.0</td>\n",
              "      <td>0.0</td>\n",
              "      <td>0.059487</td>\n",
              "      <td>2.011675</td>\n",
              "      <td>94.659779</td>\n",
              "      <td>32.900216</td>\n",
              "      <td>0.121724</td>\n",
              "      <td>0.0</td>\n",
              "      <td>1.884858e+05</td>\n",
              "      <td>5.356007e+04</td>\n",
              "      <td>27439.454668</td>\n",
              "      <td>4.682151e+04</td>\n",
              "      <td>3.664349e+04</td>\n",
              "      <td>0.585946</td>\n",
              "      <td>1.587376</td>\n",
              "      <td>11.436762</td>\n",
              "      <td>55.880363</td>\n",
              "      <td>3.026821</td>\n",
              "      <td>12.425676</td>\n",
              "      <td>0.036178</td>\n",
              "      <td>0.062940</td>\n",
              "      <td>38.526592</td>\n",
              "      <td>3.0</td>\n",
              "      <td>201.703519</td>\n",
              "      <td>3.0</td>\n",
              "      <td>14.669528</td>\n",
              "      <td>607.108398</td>\n",
              "      <td>15659.828970</td>\n",
              "      <td>246.913004</td>\n",
              "      <td>7320.037317</td>\n",
              "      <td>51.851907</td>\n",
              "      <td>18.607539</td>\n",
              "    </tr>\n",
              "    <tr>\n",
              "      <th>std</th>\n",
              "      <td>NaN</td>\n",
              "      <td>NaN</td>\n",
              "      <td>10150.393855</td>\n",
              "      <td>10150.393855</td>\n",
              "      <td>10152.178762</td>\n",
              "      <td>285.726782</td>\n",
              "      <td>1.083035e+05</td>\n",
              "      <td>NaN</td>\n",
              "      <td>NaN</td>\n",
              "      <td>20.144436</td>\n",
              "      <td>0.733826</td>\n",
              "      <td>0.734429</td>\n",
              "      <td>21.813800</td>\n",
              "      <td>21.881192</td>\n",
              "      <td>5.981786</td>\n",
              "      <td>0.332815</td>\n",
              "      <td>2.408124e+04</td>\n",
              "      <td>12.129592</td>\n",
              "      <td>8723.959920</td>\n",
              "      <td>8724.307663</td>\n",
              "      <td>6603.469937</td>\n",
              "      <td>6603.859767</td>\n",
              "      <td>6208.300062</td>\n",
              "      <td>1483.761653</td>\n",
              "      <td>8.574509</td>\n",
              "      <td>324.692122</td>\n",
              "      <td>58.444582</td>\n",
              "      <td>5516.758598</td>\n",
              "      <td>0.146578</td>\n",
              "      <td>21.802446</td>\n",
              "      <td>0.0</td>\n",
              "      <td>9.687744e+04</td>\n",
              "      <td>8.141831</td>\n",
              "      <td>0.0</td>\n",
              "      <td>1569.377209</td>\n",
              "      <td>1.738797e+05</td>\n",
              "      <td>1.145285</td>\n",
              "      <td>2.942505</td>\n",
              "      <td>0.935777</td>\n",
              "      <td>1.565051</td>\n",
              "      <td>...</td>\n",
              "      <td>3.439678</td>\n",
              "      <td>3.205393</td>\n",
              "      <td>4.517310</td>\n",
              "      <td>7.389264</td>\n",
              "      <td>4.959021</td>\n",
              "      <td>7.874109</td>\n",
              "      <td>3.388408</td>\n",
              "      <td>5.977787</td>\n",
              "      <td>0.0</td>\n",
              "      <td>0.0</td>\n",
              "      <td>0.410667</td>\n",
              "      <td>1.880590</td>\n",
              "      <td>8.989562</td>\n",
              "      <td>34.899797</td>\n",
              "      <td>0.332542</td>\n",
              "      <td>0.0</td>\n",
              "      <td>1.965605e+05</td>\n",
              "      <td>5.599499e+04</td>\n",
              "      <td>26376.998989</td>\n",
              "      <td>4.957639e+04</td>\n",
              "      <td>3.252675e+04</td>\n",
              "      <td>0.936073</td>\n",
              "      <td>1.801935</td>\n",
              "      <td>6.690367</td>\n",
              "      <td>26.071795</td>\n",
              "      <td>3.253894</td>\n",
              "      <td>8.190168</td>\n",
              "      <td>0.347767</td>\n",
              "      <td>0.364053</td>\n",
              "      <td>23.657781</td>\n",
              "      <td>0.0</td>\n",
              "      <td>141.270219</td>\n",
              "      <td>0.0</td>\n",
              "      <td>7.821708</td>\n",
              "      <td>425.278054</td>\n",
              "      <td>9182.493729</td>\n",
              "      <td>235.871016</td>\n",
              "      <td>5027.461162</td>\n",
              "      <td>8.713731</td>\n",
              "      <td>6.838053</td>\n",
              "    </tr>\n",
              "    <tr>\n",
              "      <th>min</th>\n",
              "      <td>NaN</td>\n",
              "      <td>NaN</td>\n",
              "      <td>1000.000000</td>\n",
              "      <td>1000.000000</td>\n",
              "      <td>725.000000</td>\n",
              "      <td>30.480000</td>\n",
              "      <td>0.000000e+00</td>\n",
              "      <td>NaN</td>\n",
              "      <td>NaN</td>\n",
              "      <td>0.000000</td>\n",
              "      <td>0.000000</td>\n",
              "      <td>0.000000</td>\n",
              "      <td>0.000000</td>\n",
              "      <td>5.000000</td>\n",
              "      <td>0.000000</td>\n",
              "      <td>0.000000</td>\n",
              "      <td>0.000000e+00</td>\n",
              "      <td>2.000000</td>\n",
              "      <td>0.000000</td>\n",
              "      <td>0.000000</td>\n",
              "      <td>0.000000</td>\n",
              "      <td>0.000000</td>\n",
              "      <td>0.000000</td>\n",
              "      <td>0.000000</td>\n",
              "      <td>0.000000</td>\n",
              "      <td>0.000000</td>\n",
              "      <td>0.000000</td>\n",
              "      <td>0.000000</td>\n",
              "      <td>0.000000</td>\n",
              "      <td>0.000000</td>\n",
              "      <td>1.0</td>\n",
              "      <td>9.000000e+03</td>\n",
              "      <td>0.000000</td>\n",
              "      <td>0.0</td>\n",
              "      <td>0.000000</td>\n",
              "      <td>0.000000e+00</td>\n",
              "      <td>0.000000</td>\n",
              "      <td>0.000000</td>\n",
              "      <td>0.000000</td>\n",
              "      <td>0.000000</td>\n",
              "      <td>...</td>\n",
              "      <td>0.000000</td>\n",
              "      <td>0.000000</td>\n",
              "      <td>0.000000</td>\n",
              "      <td>0.000000</td>\n",
              "      <td>0.000000</td>\n",
              "      <td>2.000000</td>\n",
              "      <td>0.000000</td>\n",
              "      <td>0.000000</td>\n",
              "      <td>0.0</td>\n",
              "      <td>0.0</td>\n",
              "      <td>0.000000</td>\n",
              "      <td>0.000000</td>\n",
              "      <td>0.000000</td>\n",
              "      <td>0.000000</td>\n",
              "      <td>0.000000</td>\n",
              "      <td>0.0</td>\n",
              "      <td>0.000000e+00</td>\n",
              "      <td>0.000000e+00</td>\n",
              "      <td>0.000000</td>\n",
              "      <td>0.000000e+00</td>\n",
              "      <td>0.000000e+00</td>\n",
              "      <td>0.000000</td>\n",
              "      <td>0.000000</td>\n",
              "      <td>0.000000</td>\n",
              "      <td>0.000000</td>\n",
              "      <td>0.000000</td>\n",
              "      <td>0.000000</td>\n",
              "      <td>0.000000</td>\n",
              "      <td>0.000000</td>\n",
              "      <td>0.000000</td>\n",
              "      <td>3.0</td>\n",
              "      <td>9.900000</td>\n",
              "      <td>3.0</td>\n",
              "      <td>1.000000</td>\n",
              "      <td>29.700000</td>\n",
              "      <td>804.190000</td>\n",
              "      <td>1.050000</td>\n",
              "      <td>381.560000</td>\n",
              "      <td>40.000000</td>\n",
              "      <td>1.000000</td>\n",
              "    </tr>\n",
              "    <tr>\n",
              "      <th>25%</th>\n",
              "      <td>NaN</td>\n",
              "      <td>NaN</td>\n",
              "      <td>8000.000000</td>\n",
              "      <td>8000.000000</td>\n",
              "      <td>8000.000000</td>\n",
              "      <td>253.480000</td>\n",
              "      <td>4.704000e+04</td>\n",
              "      <td>NaN</td>\n",
              "      <td>NaN</td>\n",
              "      <td>11.760000</td>\n",
              "      <td>0.000000</td>\n",
              "      <td>0.000000</td>\n",
              "      <td>19.000000</td>\n",
              "      <td>72.000000</td>\n",
              "      <td>7.000000</td>\n",
              "      <td>0.000000</td>\n",
              "      <td>5.599000e+03</td>\n",
              "      <td>14.000000</td>\n",
              "      <td>2125.890000</td>\n",
              "      <td>2123.920000</td>\n",
              "      <td>3498.060000</td>\n",
              "      <td>3498.060000</td>\n",
              "      <td>2236.590000</td>\n",
              "      <td>665.490000</td>\n",
              "      <td>0.000000</td>\n",
              "      <td>0.000000</td>\n",
              "      <td>0.000000</td>\n",
              "      <td>279.530000</td>\n",
              "      <td>0.000000</td>\n",
              "      <td>29.000000</td>\n",
              "      <td>1.0</td>\n",
              "      <td>8.740437e+04</td>\n",
              "      <td>13.200000</td>\n",
              "      <td>0.0</td>\n",
              "      <td>0.000000</td>\n",
              "      <td>2.746100e+04</td>\n",
              "      <td>0.000000</td>\n",
              "      <td>1.000000</td>\n",
              "      <td>0.000000</td>\n",
              "      <td>0.000000</td>\n",
              "      <td>...</td>\n",
              "      <td>3.000000</td>\n",
              "      <td>3.000000</td>\n",
              "      <td>4.000000</td>\n",
              "      <td>3.000000</td>\n",
              "      <td>5.000000</td>\n",
              "      <td>7.000000</td>\n",
              "      <td>3.000000</td>\n",
              "      <td>7.000000</td>\n",
              "      <td>0.0</td>\n",
              "      <td>0.0</td>\n",
              "      <td>0.000000</td>\n",
              "      <td>1.000000</td>\n",
              "      <td>92.300000</td>\n",
              "      <td>0.000000</td>\n",
              "      <td>0.000000</td>\n",
              "      <td>0.0</td>\n",
              "      <td>5.315800e+04</td>\n",
              "      <td>2.009000e+04</td>\n",
              "      <td>10100.000000</td>\n",
              "      <td>1.500000e+04</td>\n",
              "      <td>1.610400e+04</td>\n",
              "      <td>0.000000</td>\n",
              "      <td>0.000000</td>\n",
              "      <td>7.000000</td>\n",
              "      <td>36.400000</td>\n",
              "      <td>1.000000</td>\n",
              "      <td>7.000000</td>\n",
              "      <td>0.000000</td>\n",
              "      <td>0.000000</td>\n",
              "      <td>19.000000</td>\n",
              "      <td>3.0</td>\n",
              "      <td>80.490000</td>\n",
              "      <td>3.0</td>\n",
              "      <td>8.000000</td>\n",
              "      <td>233.842500</td>\n",
              "      <td>7955.450000</td>\n",
              "      <td>59.960000</td>\n",
              "      <td>3424.000000</td>\n",
              "      <td>45.000000</td>\n",
              "      <td>16.500000</td>\n",
              "    </tr>\n",
              "    <tr>\n",
              "      <th>50%</th>\n",
              "      <td>NaN</td>\n",
              "      <td>NaN</td>\n",
              "      <td>14000.000000</td>\n",
              "      <td>14000.000000</td>\n",
              "      <td>14000.000000</td>\n",
              "      <td>382.890000</td>\n",
              "      <td>6.800000e+04</td>\n",
              "      <td>NaN</td>\n",
              "      <td>NaN</td>\n",
              "      <td>17.990000</td>\n",
              "      <td>0.000000</td>\n",
              "      <td>0.000000</td>\n",
              "      <td>34.000000</td>\n",
              "      <td>90.000000</td>\n",
              "      <td>10.000000</td>\n",
              "      <td>0.000000</td>\n",
              "      <td>1.119900e+04</td>\n",
              "      <td>21.000000</td>\n",
              "      <td>7318.110000</td>\n",
              "      <td>7317.570000</td>\n",
              "      <td>5640.050000</td>\n",
              "      <td>5640.000000</td>\n",
              "      <td>3678.730000</td>\n",
              "      <td>1328.710000</td>\n",
              "      <td>0.000000</td>\n",
              "      <td>0.000000</td>\n",
              "      <td>0.000000</td>\n",
              "      <td>468.940000</td>\n",
              "      <td>0.000000</td>\n",
              "      <td>47.000000</td>\n",
              "      <td>1.0</td>\n",
              "      <td>1.170000e+05</td>\n",
              "      <td>18.650000</td>\n",
              "      <td>0.0</td>\n",
              "      <td>0.000000</td>\n",
              "      <td>7.498100e+04</td>\n",
              "      <td>1.000000</td>\n",
              "      <td>2.000000</td>\n",
              "      <td>0.000000</td>\n",
              "      <td>1.000000</td>\n",
              "      <td>...</td>\n",
              "      <td>5.000000</td>\n",
              "      <td>4.000000</td>\n",
              "      <td>6.000000</td>\n",
              "      <td>6.000000</td>\n",
              "      <td>7.000000</td>\n",
              "      <td>11.000000</td>\n",
              "      <td>5.000000</td>\n",
              "      <td>10.000000</td>\n",
              "      <td>0.0</td>\n",
              "      <td>0.0</td>\n",
              "      <td>0.000000</td>\n",
              "      <td>2.000000</td>\n",
              "      <td>100.000000</td>\n",
              "      <td>25.000000</td>\n",
              "      <td>0.000000</td>\n",
              "      <td>0.0</td>\n",
              "      <td>1.176970e+05</td>\n",
              "      <td>3.846900e+04</td>\n",
              "      <td>19800.000000</td>\n",
              "      <td>3.460400e+04</td>\n",
              "      <td>2.858500e+04</td>\n",
              "      <td>0.000000</td>\n",
              "      <td>1.000000</td>\n",
              "      <td>10.000000</td>\n",
              "      <td>57.500000</td>\n",
              "      <td>2.000000</td>\n",
              "      <td>11.000000</td>\n",
              "      <td>0.000000</td>\n",
              "      <td>0.000000</td>\n",
              "      <td>37.000000</td>\n",
              "      <td>3.0</td>\n",
              "      <td>173.350000</td>\n",
              "      <td>3.0</td>\n",
              "      <td>15.000000</td>\n",
              "      <td>529.500000</td>\n",
              "      <td>14851.430000</td>\n",
              "      <td>179.030000</td>\n",
              "      <td>5797.000000</td>\n",
              "      <td>45.440000</td>\n",
              "      <td>18.000000</td>\n",
              "    </tr>\n",
              "    <tr>\n",
              "      <th>75%</th>\n",
              "      <td>NaN</td>\n",
              "      <td>NaN</td>\n",
              "      <td>21600.000000</td>\n",
              "      <td>21600.000000</td>\n",
              "      <td>21600.000000</td>\n",
              "      <td>622.680000</td>\n",
              "      <td>9.900000e+04</td>\n",
              "      <td>NaN</td>\n",
              "      <td>NaN</td>\n",
              "      <td>25.300000</td>\n",
              "      <td>0.000000</td>\n",
              "      <td>1.000000</td>\n",
              "      <td>53.000000</td>\n",
              "      <td>104.000000</td>\n",
              "      <td>15.000000</td>\n",
              "      <td>0.000000</td>\n",
              "      <td>2.056200e+04</td>\n",
              "      <td>29.000000</td>\n",
              "      <td>14526.180000</td>\n",
              "      <td>14525.640000</td>\n",
              "      <td>9577.830000</td>\n",
              "      <td>9576.090000</td>\n",
              "      <td>6671.040000</td>\n",
              "      <td>2441.410000</td>\n",
              "      <td>0.000000</td>\n",
              "      <td>0.000000</td>\n",
              "      <td>0.000000</td>\n",
              "      <td>853.740000</td>\n",
              "      <td>0.000000</td>\n",
              "      <td>64.000000</td>\n",
              "      <td>1.0</td>\n",
              "      <td>1.586790e+05</td>\n",
              "      <td>24.930000</td>\n",
              "      <td>0.0</td>\n",
              "      <td>0.000000</td>\n",
              "      <td>2.218220e+05</td>\n",
              "      <td>1.000000</td>\n",
              "      <td>3.000000</td>\n",
              "      <td>1.000000</td>\n",
              "      <td>2.000000</td>\n",
              "      <td>...</td>\n",
              "      <td>7.000000</td>\n",
              "      <td>6.000000</td>\n",
              "      <td>9.000000</td>\n",
              "      <td>11.000000</td>\n",
              "      <td>10.000000</td>\n",
              "      <td>17.000000</td>\n",
              "      <td>7.000000</td>\n",
              "      <td>14.000000</td>\n",
              "      <td>0.0</td>\n",
              "      <td>0.0</td>\n",
              "      <td>0.000000</td>\n",
              "      <td>3.000000</td>\n",
              "      <td>100.000000</td>\n",
              "      <td>55.600000</td>\n",
              "      <td>0.000000</td>\n",
              "      <td>0.0</td>\n",
              "      <td>2.736110e+05</td>\n",
              "      <td>6.804000e+04</td>\n",
              "      <td>36100.000000</td>\n",
              "      <td>6.328900e+04</td>\n",
              "      <td>4.722875e+04</td>\n",
              "      <td>1.000000</td>\n",
              "      <td>3.000000</td>\n",
              "      <td>15.000000</td>\n",
              "      <td>76.900000</td>\n",
              "      <td>4.000000</td>\n",
              "      <td>16.000000</td>\n",
              "      <td>0.000000</td>\n",
              "      <td>0.000000</td>\n",
              "      <td>58.000000</td>\n",
              "      <td>3.0</td>\n",
              "      <td>297.150000</td>\n",
              "      <td>3.0</td>\n",
              "      <td>21.000000</td>\n",
              "      <td>908.692500</td>\n",
              "      <td>22080.510000</td>\n",
              "      <td>366.700000</td>\n",
              "      <td>9882.000000</td>\n",
              "      <td>60.000000</td>\n",
              "      <td>24.000000</td>\n",
              "    </tr>\n",
              "    <tr>\n",
              "      <th>max</th>\n",
              "      <td>NaN</td>\n",
              "      <td>NaN</td>\n",
              "      <td>40000.000000</td>\n",
              "      <td>40000.000000</td>\n",
              "      <td>40000.000000</td>\n",
              "      <td>1618.240000</td>\n",
              "      <td>9.757200e+06</td>\n",
              "      <td>NaN</td>\n",
              "      <td>NaN</td>\n",
              "      <td>999.000000</td>\n",
              "      <td>24.000000</td>\n",
              "      <td>5.000000</td>\n",
              "      <td>160.000000</td>\n",
              "      <td>119.000000</td>\n",
              "      <td>94.000000</td>\n",
              "      <td>6.000000</td>\n",
              "      <td>2.358150e+06</td>\n",
              "      <td>160.000000</td>\n",
              "      <td>36896.350000</td>\n",
              "      <td>36896.350000</td>\n",
              "      <td>49349.850500</td>\n",
              "      <td>49349.850000</td>\n",
              "      <td>40000.000000</td>\n",
              "      <td>14008.570000</td>\n",
              "      <td>612.990000</td>\n",
              "      <td>38650.000000</td>\n",
              "      <td>6957.000000</td>\n",
              "      <td>41253.540000</td>\n",
              "      <td>8.000000</td>\n",
              "      <td>162.000000</td>\n",
              "      <td>1.0</td>\n",
              "      <td>6.282000e+06</td>\n",
              "      <td>39.990000</td>\n",
              "      <td>0.0</td>\n",
              "      <td>208593.000000</td>\n",
              "      <td>9.971659e+06</td>\n",
              "      <td>13.000000</td>\n",
              "      <td>56.000000</td>\n",
              "      <td>6.000000</td>\n",
              "      <td>19.000000</td>\n",
              "      <td>...</td>\n",
              "      <td>59.000000</td>\n",
              "      <td>64.000000</td>\n",
              "      <td>69.000000</td>\n",
              "      <td>130.000000</td>\n",
              "      <td>69.000000</td>\n",
              "      <td>127.000000</td>\n",
              "      <td>37.000000</td>\n",
              "      <td>94.000000</td>\n",
              "      <td>0.0</td>\n",
              "      <td>0.0</td>\n",
              "      <td>23.000000</td>\n",
              "      <td>24.000000</td>\n",
              "      <td>100.000000</td>\n",
              "      <td>100.000000</td>\n",
              "      <td>6.000000</td>\n",
              "      <td>0.0</td>\n",
              "      <td>9.999999e+06</td>\n",
              "      <td>2.622906e+06</td>\n",
              "      <td>666200.000000</td>\n",
              "      <td>2.118996e+06</td>\n",
              "      <td>1.110019e+06</td>\n",
              "      <td>6.000000</td>\n",
              "      <td>15.000000</td>\n",
              "      <td>67.000000</td>\n",
              "      <td>170.100000</td>\n",
              "      <td>34.000000</td>\n",
              "      <td>95.000000</td>\n",
              "      <td>21.000000</td>\n",
              "      <td>15.000000</td>\n",
              "      <td>153.000000</td>\n",
              "      <td>3.0</td>\n",
              "      <td>617.340000</td>\n",
              "      <td>3.0</td>\n",
              "      <td>28.000000</td>\n",
              "      <td>1852.020000</td>\n",
              "      <td>37263.310000</td>\n",
              "      <td>1236.280000</td>\n",
              "      <td>24584.000000</td>\n",
              "      <td>98.240000</td>\n",
              "      <td>60.000000</td>\n",
              "    </tr>\n",
              "  </tbody>\n",
              "</table>\n",
              "<p>8 rows × 108 columns</p>\n",
              "</div>"
            ],
            "text/plain": [
              "        id  member_id  ...  settlement_percentage  settlement_term\n",
              "count  0.0        0.0  ...             451.000000       451.000000\n",
              "mean   NaN        NaN  ...              51.851907        18.607539\n",
              "std    NaN        NaN  ...               8.713731         6.838053\n",
              "min    NaN        NaN  ...              40.000000         1.000000\n",
              "25%    NaN        NaN  ...              45.000000        16.500000\n",
              "50%    NaN        NaN  ...              45.440000        18.000000\n",
              "75%    NaN        NaN  ...              60.000000        24.000000\n",
              "max    NaN        NaN  ...              98.240000        60.000000\n",
              "\n",
              "[8 rows x 108 columns]"
            ]
          },
          "metadata": {
            "tags": []
          },
          "execution_count": 54
        }
      ]
    },
    {
      "cell_type": "code",
      "metadata": {
        "id": "9lSEZ9_C8uUR",
        "colab_type": "code",
        "colab": {
          "base_uri": "https://localhost:8080/",
          "height": 34
        },
        "outputId": "c9a2fa42-08fb-4f61-db7a-eb9617bcffe9"
      },
      "source": [
        "df.shape"
      ],
      "execution_count": 55,
      "outputs": [
        {
          "output_type": "execute_result",
          "data": {
            "text/plain": [
              "(128397, 144)"
            ]
          },
          "metadata": {
            "tags": []
          },
          "execution_count": 55
        }
      ]
    },
    {
      "cell_type": "code",
      "metadata": {
        "id": "0ryS_J9C8xek",
        "colab_type": "code",
        "colab": {
          "base_uri": "https://localhost:8080/",
          "height": 221
        },
        "outputId": "bb5aaa1e-ae13-4d3c-a269-5aabcdda744b"
      },
      "source": [
        "df.dtypes"
      ],
      "execution_count": 56,
      "outputs": [
        {
          "output_type": "execute_result",
          "data": {
            "text/plain": [
              "id                       float64\n",
              "member_id                float64\n",
              "loan_amnt                  int64\n",
              "funded_amnt                int64\n",
              "funded_amnt_inv          float64\n",
              "                          ...   \n",
              "settlement_status         object\n",
              "settlement_date           object\n",
              "settlement_amount        float64\n",
              "settlement_percentage    float64\n",
              "settlement_term          float64\n",
              "Length: 144, dtype: object"
            ]
          },
          "metadata": {
            "tags": []
          },
          "execution_count": 56
        }
      ]
    },
    {
      "cell_type": "code",
      "metadata": {
        "id": "yJ21ML6d-MnX",
        "colab_type": "code",
        "colab": {
          "base_uri": "https://localhost:8080/",
          "height": 68
        },
        "outputId": "0b00d47f-3d7b-4fde-d8a1-6b8731cbf72b"
      },
      "source": [
        "# We will be working with ['term'], so let's look at that\n",
        "df['term'].value_counts()\n"
      ],
      "execution_count": 57,
      "outputs": [
        {
          "output_type": "execute_result",
          "data": {
            "text/plain": [
              " 36 months    88171\n",
              " 60 months    40226\n",
              "Name: term, dtype: int64"
            ]
          },
          "metadata": {
            "tags": []
          },
          "execution_count": 57
        }
      ]
    },
    {
      "cell_type": "code",
      "metadata": {
        "id": "yUCVYyp8CxMh",
        "colab_type": "code",
        "colab": {
          "base_uri": "https://localhost:8080/",
          "height": 119
        },
        "outputId": "40385899-baa0-41bb-bf2b-4456e1038695"
      },
      "source": [
        "# Looking at first few values, seems to be either 3 year or 5 year loan term\n",
        "# expressed in months\n",
        "df['term'].head()"
      ],
      "execution_count": 58,
      "outputs": [
        {
          "output_type": "execute_result",
          "data": {
            "text/plain": [
              "0     36 months\n",
              "1     36 months\n",
              "2     36 months\n",
              "3     36 months\n",
              "4     60 months\n",
              "Name: term, dtype: object"
            ]
          },
          "metadata": {
            "tags": []
          },
          "execution_count": 58
        }
      ]
    },
    {
      "cell_type": "code",
      "metadata": {
        "id": "f__SWCgpCcOZ",
        "colab_type": "code",
        "colab": {
          "base_uri": "https://localhost:8080/",
          "height": 34
        },
        "outputId": "3a613aed-0618-4680-812c-2da73ab82aea"
      },
      "source": [
        "# No null values\n",
        "df['term'].isnull().sum()"
      ],
      "execution_count": 59,
      "outputs": [
        {
          "output_type": "execute_result",
          "data": {
            "text/plain": [
              "0"
            ]
          },
          "metadata": {
            "tags": []
          },
          "execution_count": 59
        }
      ]
    },
    {
      "cell_type": "code",
      "metadata": {
        "id": "WRdltPykE62W",
        "colab_type": "code",
        "colab": {
          "base_uri": "https://localhost:8080/",
          "height": 34
        },
        "outputId": "27c8463e-5a59-4ea2-874d-7f2ecc88e636"
      },
      "source": [
        "# Getting more detail, there are leading spaces\n",
        "# maybe because there might be longer terms later\n",
        "df['term'][9]"
      ],
      "execution_count": 60,
      "outputs": [
        {
          "output_type": "execute_result",
          "data": {
            "text/plain": [
              "' 60 months'"
            ]
          },
          "metadata": {
            "tags": []
          },
          "execution_count": 60
        }
      ]
    },
    {
      "cell_type": "code",
      "metadata": {
        "id": "-K0Uev1nDCuQ",
        "colab_type": "code",
        "colab": {
          "base_uri": "https://localhost:8080/",
          "height": 34
        },
        "outputId": "7a1f7f67-5a77-41e5-df1c-f96dd08db6d1"
      },
      "source": [
        "# So it's sort of a categorical string with two possible values\n",
        "# we want to return integer 36 or 60\n",
        "# we could do if, else or strip the whitespace\n",
        "# and cast the number into an integer\n",
        "# regex or...\n",
        "# Strip out what we don't need\n",
        "# not the most elegant, but it'll work\n",
        "df['term'][1].strip().strip(' months')"
      ],
      "execution_count": 61,
      "outputs": [
        {
          "output_type": "execute_result",
          "data": {
            "text/plain": [
              "'36'"
            ]
          },
          "metadata": {
            "tags": []
          },
          "execution_count": 61
        }
      ]
    },
    {
      "cell_type": "code",
      "metadata": {
        "id": "Ks-BNjDOEfnA",
        "colab_type": "code",
        "colab": {}
      },
      "source": [
        "# Still a string of course, but it works, now make a function\n",
        "def term_to_int(cell_contents):\n",
        "  return int(cell_contents.strip().strip(' months'))"
      ],
      "execution_count": 0,
      "outputs": []
    },
    {
      "cell_type": "code",
      "metadata": {
        "id": "ELBDCev6Gx02",
        "colab_type": "code",
        "colab": {
          "base_uri": "https://localhost:8080/",
          "height": 34
        },
        "outputId": "60537690-bdc4-4e57-e021-cde5269bab7f"
      },
      "source": [
        "# Try it once\n",
        "term_to_int(df['term'][8])"
      ],
      "execution_count": 63,
      "outputs": [
        {
          "output_type": "execute_result",
          "data": {
            "text/plain": [
              "36"
            ]
          },
          "metadata": {
            "tags": []
          },
          "execution_count": 63
        }
      ]
    },
    {
      "cell_type": "code",
      "metadata": {
        "id": "PGLOy1y2HAAC",
        "colab_type": "code",
        "colab": {}
      },
      "source": [
        "# Do it all with apply()\n",
        "df['term'] = df['term'].apply(term_to_int)"
      ],
      "execution_count": 0,
      "outputs": []
    },
    {
      "cell_type": "code",
      "metadata": {
        "id": "btl5hQXBHsmG",
        "colab_type": "code",
        "colab": {
          "base_uri": "https://localhost:8080/",
          "height": 119
        },
        "outputId": "1f06b693-0417-4514-8ff7-ea248e7583dd"
      },
      "source": [
        "df['term'].head()"
      ],
      "execution_count": 65,
      "outputs": [
        {
          "output_type": "execute_result",
          "data": {
            "text/plain": [
              "0    36\n",
              "1    36\n",
              "2    36\n",
              "3    36\n",
              "4    60\n",
              "Name: term, dtype: int64"
            ]
          },
          "metadata": {
            "tags": []
          },
          "execution_count": 65
        }
      ]
    },
    {
      "cell_type": "code",
      "metadata": {
        "id": "BooZEQIUIhp3",
        "colab_type": "code",
        "colab": {}
      },
      "source": [
        "# Make a column named loan_status_is_great.\n",
        "# It should contain the integer 1 if loan_status is \"Current\" or \"Fully Paid.\"\n",
        "# Else it should contain the integer 0.\n",
        "# Make last_pymnt_d_month and last_pymnt_d_year columns.\n"
      ],
      "execution_count": 0,
      "outputs": []
    },
    {
      "cell_type": "markdown",
      "metadata": {
        "colab_type": "text",
        "id": "L8k0LiHmo5EU"
      },
      "source": [
        "# Stretch Goals\n",
        "\n",
        "You can do more with the LendingClub or Instacart datasets.\n",
        "\n",
        "LendingClub options:\n",
        "- There's one other column in the dataframe with percent signs. Remove them and convert to floats. You'll need to handle missing values.\n",
        "- Modify the `emp_title` column to replace titles with 'Other' if the title is not in the top 20. \n",
        "- Take initiatve and work on your own ideas!\n",
        "\n",
        "Instacart options:\n",
        "- Read [Instacart Market Basket Analysis, Winner's Interview: 2nd place, Kazuki Onodera](http://blog.kaggle.com/2017/09/21/instacart-market-basket-analysis-winners-interview-2nd-place-kazuki-onodera/), especially the **Feature Engineering** section. (Can you choose one feature from his bulleted lists, and try to engineer it with pandas code?)\n",
        "- Read and replicate parts of [Simple Exploration Notebook - Instacart](https://www.kaggle.com/sudalairajkumar/simple-exploration-notebook-instacart). (It's the Python Notebook with the most upvotes for this Kaggle competition.)\n",
        "- Take initiative and work on your own ideas!"
      ]
    },
    {
      "cell_type": "markdown",
      "metadata": {
        "colab_type": "text",
        "id": "0_7PXF7lpEXg"
      },
      "source": [
        "You can uncomment and run the cells below to re-download and extract the Instacart data"
      ]
    },
    {
      "cell_type": "code",
      "metadata": {
        "id": "urIePNa0yNG6",
        "colab_type": "code",
        "colab": {}
      },
      "source": [
        "# !wget https://s3.amazonaws.com/instacart-datasets/instacart_online_grocery_shopping_2017_05_01.tar.gz"
      ],
      "execution_count": 0,
      "outputs": []
    },
    {
      "cell_type": "code",
      "metadata": {
        "id": "X9zEyu-uyNG8",
        "colab_type": "code",
        "colab": {}
      },
      "source": [
        "# !tar --gunzip --extract --verbose --file=instacart_online_grocery_shopping_2017_05_01.tar.gz"
      ],
      "execution_count": 0,
      "outputs": []
    },
    {
      "cell_type": "code",
      "metadata": {
        "id": "Y3IqrhlpyNG-",
        "colab_type": "code",
        "colab": {}
      },
      "source": [
        "# %cd instacart_2017_05_01"
      ],
      "execution_count": 0,
      "outputs": []
    }
  ]
}